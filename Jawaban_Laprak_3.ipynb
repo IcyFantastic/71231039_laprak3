{
 "cells": [
  {
   "cell_type": "code",
   "execution_count": 10,
   "metadata": {},
   "outputs": [
    {
     "name": "stdout",
     "output_type": "stream",
     "text": [
      "Lu Olang Salah Input Suhu Looo\n"
     ]
    }
   ],
   "source": [
    "tulis = input(\"Masukkan suhu tubuh: \")\n",
    "\n",
    "try:\n",
    "    suhu = int(tulis)\n",
    "    if suhu >= 38 and suhu <= 60:\n",
    "        print(\"Anda demam\")\n",
    "    elif suhu >= 35 and suhu <= 37:\n",
    "        print(\"Anda tidak demam\")\n",
    "\n",
    "except:\n",
    "    print(\"Lu Olang Salah Input Suhu Looo\")"
   ]
  },
  {
   "cell_type": "code",
   "execution_count": 14,
   "metadata": {},
   "outputs": [
    {
     "name": "stdout",
     "output_type": "stream",
     "text": [
      "Nol\n"
     ]
    }
   ],
   "source": [
    "tulis1 = input(\"Masukkan suatu bilangan: \")\n",
    "\n",
    "try:\n",
    "    bilangan = int(tulis1)\n",
    "    if bilangan > 0:\n",
    "        print(\"Positif\")\n",
    "    elif bilangan < 0:\n",
    "        print(\"Negatif\")\n",
    "    elif bilangan == 0:\n",
    "        print(\"Nol\")\n",
    "\n",
    "except:\n",
    "    print(\"Lu Olang Salah Input Bilangan Looo\")"
   ]
  },
  {
   "cell_type": "code",
   "execution_count": 16,
   "metadata": {},
   "outputs": [
    {
     "name": "stdout",
     "output_type": "stream",
     "text": [
      "Lu Olang Ada Yang Salah Input Data Looo\n"
     ]
    }
   ],
   "source": [
    "tulis_a = input(\"Masukkan bilangan pertama: \")\n",
    "tulis_b = input(\"Masukkan bilangan kedua: \")\n",
    "tulis_c = input(\"Masukkan bilangan ketiga: \")\n",
    "\n",
    "try:\n",
    "    a = int(tulis_a)\n",
    "    b = int(tulis_b)\n",
    "    c = int(tulis_c)\n",
    "    if a > b and a > c:\n",
    "        print(\"Terbesar: \", a)\n",
    "    elif b > a and b > c:\n",
    "        print(\"Terbesar: \", b)\n",
    "    elif c > a and c > b:\n",
    "        print(\"Terbesar: \", c)\n",
    "\n",
    "except:\n",
    "    print(\"Lu Olang Ada Yang Salah Input Data Looo\")"
   ]
  },
  {
   "cell_type": "code",
   "execution_count": 24,
   "metadata": {},
   "outputs": [
    {
     "name": "stdout",
     "output_type": "stream",
     "text": [
      "Nol\n"
     ]
    }
   ],
   "source": [
    "bilangan = int(input(\"Masukkan suatu bilangan: \"))\n",
    "hasil = print(\"Positif\") if bilangan > 0 else print(\"Negatif\") if bilangan < 0 else print(\"Nol\")\n"
   ]
  },
  {
   "cell_type": "code",
   "execution_count": 48,
   "metadata": {},
   "outputs": [
    {
     "name": "stdout",
     "output_type": "stream",
     "text": [
      "Data Bulan Invalid\n"
     ]
    }
   ],
   "source": [
    "tulis = input(\"Masukkan Bulan (1 - 12): \")\n",
    "\n",
    "try:\n",
    "    bulan = int(tulis)\n",
    "    if bulan == 4 or bulan == 6 or bulan == 9 or bulan == 11:\n",
    "        hari = 30\n",
    "    elif bulan == 1 or bulan == 3 or bulan == 5 or bulan == 7 or bulan == 8 or bulan == 10 or bulan == 12:\n",
    "        hari = 31\n",
    "    elif bulan == 2:\n",
    "        hari = 29\n",
    "    else:\n",
    "        print(\"Data Bulan Tidak Ada Di Kalender\")\n",
    "\n",
    "    print(f\"Jumlah Harinya: \", hari)\n",
    "\n",
    "except:\n",
    "    print(\"Data Bulan Invalid\")\n",
    "\n",
    "    \n",
    "        "
   ]
  },
  {
   "cell_type": "code",
   "execution_count": 53,
   "metadata": {},
   "outputs": [
    {
     "name": "stdout",
     "output_type": "stream",
     "text": [
      "Tidak Ada Yang Sama\n"
     ]
    }
   ],
   "source": [
    "tulis1 = input(\"Masukkan Sisi Ke-1: \")\n",
    "tulis2 = input(\"Masukkan Sisi Ke-2: \")\n",
    "tulis3 = input(\"Masukkan Sisi Ke-3: \")\n",
    "\n",
    "try:\n",
    "    a = int(tulis1)\n",
    "    b = int(tulis2)\n",
    "    c = int(tulis3)\n",
    "\n",
    "    if a == b == c:\n",
    "        print(\"3 Sisi Yang Sama\")\n",
    "    elif a == b or a == c or b == c:\n",
    "        print(\"2 Sisi Yang Sama\")\n",
    "    else:\n",
    "        print(\"Tidak Ada Yang Sama\")\n",
    "\n",
    "except:\n",
    "    print(\"Ada Data Input Yang Tidak Valid\")"
   ]
  }
 ],
 "metadata": {
  "kernelspec": {
   "display_name": "Python 3",
   "language": "python",
   "name": "python3"
  },
  "language_info": {
   "codemirror_mode": {
    "name": "ipython",
    "version": 3
   },
   "file_extension": ".py",
   "mimetype": "text/x-python",
   "name": "python",
   "nbconvert_exporter": "python",
   "pygments_lexer": "ipython3",
   "version": "3.12.0"
  }
 },
 "nbformat": 4,
 "nbformat_minor": 2
}
